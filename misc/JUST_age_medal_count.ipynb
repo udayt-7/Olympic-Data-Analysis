{
 "cells": [
  {
   "cell_type": "code",
   "execution_count": 106,
   "metadata": {},
   "outputs": [],
   "source": [
    "\n",
    "import pandas as pd\n",
    "import numpy as np\n",
    "import matplotlib.pyplot as plt\n",
    "import seaborn as sns\n",
    "import sys\n",
    "\n",
    "dm = pd.read_csv('athlete_events.csv')\n",
    "\n",
    "#Print all missing values in the dataset\n",
    "\n",
    "#print(df.isnull().sum())\n",
    "\n",
    "#Filling missing values of Age, Height and Weight by calculating mean of theier respective coloumns\n",
    "\n",
    "mis_col = ['Age', 'Height', 'Weight']\n",
    "for col in mis_col:\n",
    "    dm[col] = dm[col].fillna(np.mean(dm[col]))\n",
    "    dm[col] = np.round(dm[col],0)\n",
    "\n",
    "#dm\n",
    "\n",
    "#Dropping all data of players who haven't won any medal\n",
    "\n",
    "a1 = dm.dropna(subset=['Medal'])\n",
    "\n",
    "#Creating 3 seperate csv files after filtering and cleaning data as \n",
    "###refined database, summer olympic db, winter olympic db\n",
    "\n",
    "a1.to_csv(\"rd1.csv\", index = False)\n",
    "df = pd.read_csv('rd1.csv')\t\n",
    "#print(df)\n",
    "\n",
    "a2 = df[df['Season']=='Summer']\n",
    "a2.to_csv(\"summer.csv\",index = False)\n",
    "# ds = pd.read_csv('summer.csv')\n",
    "#print(ds)\n",
    "\n",
    "a3 = df[df['Season']=='Winter']\n",
    "a3.to_csv('winter.csv', index = False)\n",
    "# dw = pd.read_csv('winter.csv')\n",
    "#print(dw)\n",
    "\n",
    "\n"
   ]
  },
  {
   "cell_type": "code",
   "execution_count": 107,
   "metadata": {},
   "outputs": [],
   "source": [
    "##Question -- medal stats for each Sport\n",
    "\n",
    "cmedals = df.groupby('Sport', as_index = True).agg({'Medal':'count'})\n",
    "#print(cmedals.sort_values('Medal',ascending = False))\n",
    "\n",
    "\n",
    "#NOC and Team Duplicates\n",
    "\n",
    "#print(df.loc[:,['NOC','Team']].drop_duplicates()['NOC'].value_counts().head())\n",
    "\n",
    "\n",
    "#which country has most no of medals\n",
    "\n",
    "a= df.groupby(['NOC'], as_index = True).agg({'Medal':'count'})\n",
    "maxmedals = a.sort_values(['Medal'], ascending = False)\n",
    "\n",
    "#grouping medals by sport\n",
    "\n",
    "b = df.groupby(['Sport','NOC'], as_index = True).agg({'Medal':'count'})\n",
    "medalbysport = b.sort_values(['Sport','Medal'], ascending = False)\n",
    "\n",
    "#top 10 countries with most no of medals\n",
    "\n",
    "t = df.groupby(['Sport'], as_index = True).agg({'Medal':'count'})\n",
    "top10 = t.sort_values('Medal', ascending=False).head(10)\n",
    "\n",
    "#print(maxmedals)\n",
    "#print(medalbysport)\n",
    "#print(top10)\n",
    "\n",
    "\n",
    "\n",
    "\n",
    "#Country with most no of medals in a specific sport\n",
    "# top = df.groupby(['Sport','NOC'], as_index = True)['Sport'].agg({'Medal':'count'}).sort_values(['Medal'], ascending = False)\n",
    "# print(top)\n",
    "######find unique######\n",
    "top = df.groupby(['Sport','NOC'], as_index = True).agg({'Medal':'count'}).sort_values(['Medal'], ascending = False)\n",
    "#print(top)\n",
    "\n",
    "#top1 = top.groupby(['Sport','NOC','Medal'], as_index = True).agg({'Sport':'unique'})\n",
    "#top.get_group('Swimming')\n",
    "# ds.loc[:,'Sport'].unique()\n",
    "\n",
    "\n"
   ]
  },
  {
   "cell_type": "code",
   "execution_count": 97,
   "metadata": {},
   "outputs": [
    {
     "name": "stdout",
     "output_type": "stream",
     "text": [
      "            Event\n",
      "Sport            \n",
      "Athletics      83\n",
      "Shooting       78\n",
      "Swimming       52\n",
      "Cycling        42\n",
      "Sailing        37\n",
      "Wrestling      29\n",
      "Archery        28\n",
      "Canoeing       27\n",
      "Rowing         25\n",
      "Gymnastics     25\n"
     ]
    }
   ],
   "source": [
    "#No of events for each Game\n",
    "#summer\n",
    "yearsplit = ds.sort_values(['Year','Season'],ascending = False)\n",
    "z = yearsplit[['Sport','Event']]\n",
    "eventsplit = z.groupby(['Sport'], as_index = True).agg({'Event':'nunique'}).sort_values('Event',ascending =False)\n",
    "#print(eventsplit.head(10))"
   ]
  },
  {
   "cell_type": "code",
   "execution_count": 98,
   "metadata": {},
   "outputs": [],
   "source": [
    "#top medal winning countries in last 25 years \n",
    "\n",
    "yearsplit = df[df['Year'].between(1990,2016, inclusive = True)].sort_values(['Year','Season'],ascending = False)\n",
    "top25c = yearsplit.groupby(['NOC'], as_index = True).agg({'Medal':'count'}).sort_values('Medal', ascending = False).head(10)\n",
    "#print(top25c)"
   ]
  },
  {
   "cell_type": "code",
   "execution_count": 114,
   "metadata": {},
   "outputs": [
    {
     "data": {
      "text/plain": [
       "Text(0.5, 1.0, 'Medal distribution')"
      ]
     },
     "execution_count": 114,
     "metadata": {},
     "output_type": "execute_result"
    },
    {
     "data": {
      "image/png": "[encoded data removed]",
      "text/plain": [
       "<Figure size 1440x720 with 1 Axes>"
      ]
     },
     "metadata": {
      "needs_background": "light"
     },
     "output_type": "display_data"
    }
   ],
   "source": [
    "#MEDAL count FOR EACH AGE\n",
    "\n",
    "medals = df\n",
    "#medals.head()\n",
    "medals = medals[np.isfinite(medals['Age'])]\n",
    "\n",
    "# plt.figure(figsize=(20,10))\n",
    "# plt.tight_layout()\n",
    "# sns.countplot(medals['Age'])\n",
    "# plt.title('Medal distribution')"
   ]
  },
  {
   "cell_type": "code",
   "execution_count": 113,
   "metadata": {},
   "outputs": [
    {
     "name": "stdout",
     "output_type": "stream",
     "text": [
      "3656\n"
     ]
    }
   ],
   "source": [
    "\n",
    "#medals won before/after/at that particular age\n",
    "\n",
    "#print(df['ID'][df['Age']==26].count())"
   ]
  },
  {
   "cell_type": "code",
   "execution_count": null,
   "metadata": {},
   "outputs": [],
   "source": []
  },
  {
   "cell_type": "code",
   "execution_count": null,
   "metadata": {},
   "outputs": [],
   "source": [
    "\n"
   ]
  },
  {
   "cell_type": "code",
   "execution_count": null,
   "metadata": {},
   "outputs": [],
   "source": [
    "#MAPPING THE HOST CITY TO REPECTIVE COUNTRY\n",
    "df=pd.read_csv(\"rd1.csv\")\n",
    "df\n",
    "#average age\n",
    "t5s=df.groupby(\"Sport\", as_index=False).agg({\"Medal\":'count'}).nlargest(5,\"Medal\")\n",
    "l=list(t5s.loc[:,\"Sport\"])\n",
    "l\n",
    "def fun(i):\n",
    "    ss=df[df['Sport']==i]\n",
    "    yearsplit = ss[ss['Year'].between(1900,2016, inclusive = True)].sort_values(['Year','Season'],ascending = False)\n",
    "    return yearsplit.groupby(['Year','Sport'], as_index=False).agg({'Age':'mean'})\n",
    "\n",
    "a=fun(l[0])\n",
    "b=fun(l[1])\n",
    "c=fun(l[2])\n",
    "d=fun(l[3])\n",
    "e=fun(l[4])\n",
    "frames=[a,b,c,d,e]\n",
    "result=pd.concat(frames)\n",
    "result\n",
    "######################################################\n",
    "top 5 countrtop 5 sport top 5 sports person\n",
    "x=df.groupby('Sport',as_index=False)['Medal'].count().nlargest(5,'Medal')\n",
    "l=list(x[\"Sport\"])\n",
    "def fun(i):\n",
    "    y=df[df[\"Sport\"] == i]\n",
    "    return y.groupby([\"Sport\",\"Name\"],as_index=False).agg({\"Medal\":\"count\"}).nlargest(5,\"Medal\")\n",
    "\n",
    "p=fun(l[0])\n",
    "q=fun(l[1])\n",
    "r=fun(l[2])\n",
    "s=fun(l[3])\n",
    "w=fun(l[4])\n",
    "frames1=[p,q,r,s,w]\n",
    "result=pd.concat(frames1)\n",
    "result=result.reset_index()\n",
    "#result.drop(result.index[0], inplace=True)\n",
    "result.drop('index', axis=1, inplace=True)\n",
    "result\n"
   ]
  },
  {
   "cell_type": "code",
   "execution_count": null,
   "metadata": {},
   "outputs": [],
   "source": [
    "city_to_country = {'Mexico City':'Mexico' ,\n",
    "                   'Berlin':'Germany',\n",
    "                   'Munich':'Germany',\n",
    "                   'Garmisch-Partenkirchen':'Germany',\n",
    "                   'Montreal':'Canada',\n",
    "                   'Calgary':'Canada',\n",
    "                   'Vancouver':'Canada',\n",
    "                  'Stockholm':'Sweden',\n",
    "                  'Moskva':{'Russia','Soviet Union'},\n",
    "                   'Sochi':'Russia',\n",
    "                   'St. Louis':'USA',\n",
    "                   'Lake Placid':'USA',\n",
    "                   'Los Angeles':'USA',\n",
    "                   'Atlanta':'USA',\n",
    "                  'Squaw Valley':'USA',\n",
    "                   'Salt Lake City':'USA',\n",
    "                   'Seoul':'South Korea' ,\n",
    "                  'Barcelona':'Spain' ,\n",
    "                  'Helsinki':'Finland',\n",
    "                  'Innsbruck':'Austria' ,\n",
    "                  'Melbourne':'Australia',\n",
    "                  'Sydney':'Australia',\n",
    "                   'Athina':'Greece' ,\n",
    "                  'Beijing':'China' ,\n",
    "                  'Antwerpen':'Belgium',\n",
    "                  \"Cortina d'Ampezzo\":'Italy',\n",
    "                   'Roma':'Italy',\n",
    "                   'Torino':'Italy',\n",
    "                  'London':'UK',\n",
    "                  'Amsterdam':'Netherlands',\n",
    "                  'Tokyo':'Japan',\n",
    "                   'Sapporo':'Japan',\n",
    "                   'Nagano':'Japan',\n",
    "                   'Oslo':'Norway',\n",
    "                   'Lillehammer':'Norway',\n",
    "                  'Sarajevo':'Yugoslavia' ,\n",
    "                  'Sankt Moritz':'Switzerland',\n",
    "                   'Paris':'France',\n",
    "                   'Chamonix':'France',\n",
    "                   'Albertville':'France',\n",
    "                   'Grenoble':'France',\n",
    "                  'Rio de Janeiro':'Brazil'}"
   ]
  },
  {
   "cell_type": "code",
   "execution_count": null,
   "metadata": {},
   "outputs": [],
   "source": []
  },
  {
   "cell_type": "code",
   "execution_count": null,
   "metadata": {},
   "outputs": [],
   "source": []
  },
  {
   "cell_type": "code",
   "execution_count": null,
   "metadata": {},
   "outputs": [],
   "source": []
  },
  {
   "cell_type": "code",
   "execution_count": null,
   "metadata": {},
   "outputs": [],
   "source": []
  },
  {
   "cell_type": "code",
   "execution_count": null,
   "metadata": {},
   "outputs": [],
   "source": []
  },
  {
   "cell_type": "code",
   "execution_count": null,
   "metadata": {},
   "outputs": [],
   "source": []
  },
  {
   "cell_type": "code",
   "execution_count": null,
   "metadata": {},
   "outputs": [],
   "source": []
  },
  {
   "cell_type": "code",
   "execution_count": null,
   "metadata": {},
   "outputs": [],
   "source": []
  },
  {
   "cell_type": "code",
   "execution_count": null,
   "metadata": {},
   "outputs": [],
   "source": []
  },
  {
   "cell_type": "code",
   "execution_count": null,
   "metadata": {},
   "outputs": [],
   "source": []
  },
  {
   "cell_type": "code",
   "execution_count": null,
   "metadata": {},
   "outputs": [],
   "source": [
    "#######################################################\n",
    "\n",
    " #   JUNK      #\n",
    "    \n",
    "#top10.iloc[:,] \n",
    "#top10['Athletics','Swimming','Rowing','Gymnastics','Fencing','Football','Hockey','Wrestling','Cycling','Sailing']\n",
    "#a = z.groupby(['Sport','NOC'])['Medal'].count()\n",
    "# a.to_csv('sport.csv', header = 'Sport''NOC''Medal').\n",
    "# sp = read_csv('sport.csv')\n",
    "#z = ds[['NOC', 'Sport', 'Medal']].copy()\n",
    "#z.sort_values('NOC')\n",
    "# n = z.groupby(['Sport','NOC'], as_index = True)['Medal'].count()\n",
    "# type(n)\n",
    "#m = n.nlargest(50)\n",
    "#m\n",
    "#m['NOC'].sort()\n",
    "# n.to_csv('sport.csv', header = 'Sport''NOC''Medal')\n",
    "# sp = pd.read_csv('sport.csv').\n",
    "# sp\n",
    "\n",
    "# n = z.groupby(['Sport', 'NOC'], as_index = True).agg({'Medal':'count'})\n",
    "# n.sort_values(['Medal'], ascending=False)\n",
    "# n\n",
    "#sportevents.to_csv('sport.csv', header = 'Sport''NOC''Medal')\n",
    "#sp = pd.read_csv('sport.csv')\n",
    "\n",
    "# k = n.groupby(['Sport'])['Medal'].nlargest(5)\n",
    "# k\n",
    "\n",
    "# for name, group in medalbysport.groupby('Sport'): \n",
    "#      print(name)\n",
    "#      print(group)\n",
    "\n",
    "\n",
    "###############################################################"
   ]
  }
 ],
 "metadata": {
  "kernelspec": {
   "display_name": "Python 3",
   "language": "python",
   "name": "python3"
  },
  "language_info": {
   "codemirror_mode": {
    "name": "ipython",
    "version": 3
   },
   "file_extension": ".py",
   "mimetype": "text/x-python",
   "name": "python",
   "nbconvert_exporter": "python",
   "pygments_lexer": "ipython3",
   "version": "3.6.8"
  }
 },
 "nbformat": 4,
 "nbformat_minor": 2
}
