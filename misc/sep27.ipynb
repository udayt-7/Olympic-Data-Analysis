{
 "cells": [
  {
   "cell_type": "code",
   "execution_count": 50,
   "metadata": {},
   "outputs": [],
   "source": [
    "\n",
    "import pandas as pd\n",
    "import numpy as np\n",
    "import matplotlib.pyplot as plt\n",
    "import seaborn as sns\n",
    "import sys\n",
    "\n",
    "dm = pd.read_csv('athlete_events.csv')\n",
    "\n",
    "#Print all missing values in the dataset\n",
    "\n",
    "#print(df.isnull().sum())\n",
    "\n",
    "#Filling missing values of Age, Height and Weight by calculating mean of theier respective coloumns\n",
    "\n",
    "mis_col = ['Age', 'Height', 'Weight']\n",
    "for col in mis_col:\n",
    "    dm[col] = dm[col].fillna(np.mean(dm[col]))\n",
    "    dm[col] = np.round(dm[col],0)\n",
    "\n",
    "#dm\n",
    "\n",
    "#Dropping all data of players who haven't won any medal\n",
    "\n",
    "a1 = dm.dropna(subset=['Medal'])\n",
    "\n",
    "#Creating 3 seperate csv files after filtering and cleaning data as \n",
    "###refined database, summer olympic db, winter olympic db\n",
    "\n",
    "a1.to_csv(\"rd1.csv\", index = False)\n",
    "df = pd.read_csv('rd1.csv')\t\n",
    "#print(df)\n",
    "\n",
    "a2 = df[df['Season']=='Summer']\n",
    "a2.to_csv(\"summer.csv\",index = False)\n",
    "# ds = pd.read_csv('summer.csv')\n",
    "#print(ds)\n",
    "\n",
    "a3 = df[df['Season']=='Winter']\n",
    "a3.to_csv('winter.csv', index = False)\n",
    "# dw = pd.read_csv('winter.csv')\n",
    "#print(dw)\n",
    "\n",
    "\n",
    "\n",
    "\n"
   ]
  },
  {
   "cell_type": "code",
   "execution_count": 67,
   "metadata": {},
   "outputs": [
    {
     "data": {
      "text/plain": [
       "dict_keys(['Aeronautics', 'Alpine Skiing', 'Alpinism', 'Archery', 'Art Competitions', 'Athletics', 'Badminton', 'Baseball', 'Basketball', 'Basque Pelota', 'Beach Volleyball', 'Biathlon', 'Bobsleigh', 'Boxing', 'Canoeing', 'Cricket', 'Croquet', 'Cross Country Skiing', 'Curling', 'Cycling', 'Diving', 'Equestrianism', 'Fencing', 'Figure Skating', 'Football', 'Freestyle Skiing', 'Golf', 'Gymnastics', 'Handball', 'Hockey', 'Ice Hockey', 'Jeu De Paume', 'Judo', 'Lacrosse', 'Luge', 'Military Ski Patrol', 'Modern Pentathlon', 'Motorboating', 'Nordic Combined', 'Polo', 'Racquets', 'Rhythmic Gymnastics', 'Roque', 'Rowing', 'Rugby', 'Rugby Sevens', 'Sailing', 'Shooting', 'Short Track Speed Skating', 'Skeleton', 'Ski Jumping', 'Snowboarding', 'Softball', 'Speed Skating', 'Swimming', 'Synchronized Swimming', 'Table Tennis', 'Taekwondo', 'Tennis', 'Trampolining', 'Triathlon', 'Tug-Of-War', 'Volleyball', 'Water Polo', 'Weightlifting', 'Wrestling'])"
      ]
     },
     "execution_count": 67,
     "metadata": {},
     "output_type": "execute_result"
    }
   ],
   "source": [
    "##Question -- medal stats for each Sport\n",
    "\n",
    "cmedals = df.groupby('Sport', as_index = True).agg({'Medal':'count'})\n",
    "#print(cmedals.sort_values('Medal',ascending = False))\n",
    "\n",
    "\n",
    "#NOC and Team Duplicates\n",
    "\n",
    "#print(df.loc[:,['NOC','Team']].drop_duplicates()['NOC'].value_counts().head())\n",
    "\n",
    "\n",
    "#which country has most no of medals\n",
    "\n",
    "a= df.groupby(['NOC'], as_index = True).agg({'Medal':'count'})\n",
    "maxmedals = a.sort_values(['Medal'], ascending = False)\n",
    "\n",
    "#grouping medals by sport\n",
    "\n",
    "b = df.groupby(['Sport','NOC'], as_index = True).agg({'Medal':'count'})\n",
    "medalbysport = b.sort_values(['Sport','Medal'], ascending = False)\n",
    "\n",
    "#top 10 countries with most no of medals\n",
    "\n",
    "t = df.groupby(['Sport'], as_index = True).agg({'Medal':'count'})\n",
    "top10 = t.sort_values('Medal', ascending=False).head(10)\n",
    "\n",
    "#print(maxmedals)\n",
    "#print(medalbysport)\n",
    "#print(top10)\n",
    "\n",
    "\n",
    "\n",
    "\n",
    "#Country with most no of medals in a specific sport\n",
    "# top = df.groupby(['Sport','NOC'], as_index = True)['Sport'].agg({'Medal':'count'}).sort_values(['Medal'], ascending = False)\n",
    "# print(top)\n",
    "######find unique######\n",
    "top = df.groupby(['Sport','NOC']).agg({'Medal':'count'}).sort_values(['Medal'], ascending = False)\n",
    "#top.groupby('Sport')['NOC'].first()\n",
    "top.groupby(['Sport']).groups.keys()\n"
   ]
  },
  {
   "cell_type": "code",
   "execution_count": 66,
   "metadata": {},
   "outputs": [
    {
     "data": {
      "text/html": [
       "<div>\n",
       "<style scoped>\n",
       "    .dataframe tbody tr th:only-of-type {\n",
       "        vertical-align: middle;\n",
       "    }\n",
       "\n",
       "    .dataframe tbody tr th {\n",
       "        vertical-align: top;\n",
       "    }\n",
       "\n",
       "    .dataframe thead th {\n",
       "        text-align: right;\n",
       "    }\n",
       "</style>\n",
       "<table border=\"1\" class=\"dataframe\">\n",
       "  <thead>\n",
       "    <tr style=\"text-align: right;\">\n",
       "      <th></th>\n",
       "      <th>Event</th>\n",
       "    </tr>\n",
       "    <tr>\n",
       "      <th>Sport</th>\n",
       "      <th></th>\n",
       "    </tr>\n",
       "  </thead>\n",
       "  <tbody>\n",
       "    <tr>\n",
       "      <th>Athletics</th>\n",
       "      <td>83</td>\n",
       "    </tr>\n",
       "    <tr>\n",
       "      <th>Shooting</th>\n",
       "      <td>82</td>\n",
       "    </tr>\n",
       "    <tr>\n",
       "      <th>Swimming</th>\n",
       "      <td>55</td>\n",
       "    </tr>\n",
       "    <tr>\n",
       "      <th>Cycling</th>\n",
       "      <td>44</td>\n",
       "    </tr>\n",
       "    <tr>\n",
       "      <th>Sailing</th>\n",
       "      <td>37</td>\n",
       "    </tr>\n",
       "  </tbody>\n",
       "</table>\n",
       "</div>"
      ],
      "text/plain": [
       "           Event\n",
       "Sport           \n",
       "Athletics     83\n",
       "Shooting      82\n",
       "Swimming      55\n",
       "Cycling       44\n",
       "Sailing       37"
      ]
     },
     "execution_count": 66,
     "metadata": {},
     "output_type": "execute_result"
    }
   ],
   "source": [
    "#No of events for each Game\n",
    "#summer\n",
    "yearsplit = df.sort_values(['Year','Season'],ascending = False)\n",
    "z = yearsplit[['Sport','Event']]\n",
    "eventsplit = z.groupby(['Sport'], as_index = True).agg({'Event':'nunique'}).sort_values('Event',ascending =False)\n",
    "eventsplit.head(5)\n"
   ]
  },
  {
   "cell_type": "code",
   "execution_count": 52,
   "metadata": {},
   "outputs": [
    {
     "name": "stdout",
     "output_type": "stream",
     "text": [
      "     Medal\n",
      "NOC       \n",
      "USA   2181\n",
      "GER   1268\n",
      "RUS   1148\n",
      "AUS    889\n",
      "CHN    863\n",
      "CAN    742\n",
      "ITA    602\n",
      "FRA    582\n",
      "GBR    564\n",
      "NED    519\n"
     ]
    }
   ],
   "source": [
    "#top medal winning countries in last 25 years \n",
    "\n",
    "yearsplit = df[df['Year'].between(1990,2016, inclusive = True)].sort_values(['Year','Season'],ascending = False)\n",
    "top25c = yearsplit.groupby(['NOC'], as_index = True).agg({'Medal':'count'}).sort_values('Medal', ascending = False).head(10)\n",
    "print(top25c)"
   ]
  },
  {
   "cell_type": "code",
   "execution_count": null,
   "metadata": {},
   "outputs": [],
   "source": []
  },
  {
   "cell_type": "code",
   "execution_count": null,
   "metadata": {},
   "outputs": [],
   "source": []
  },
  {
   "cell_type": "code",
   "execution_count": null,
   "metadata": {},
   "outputs": [],
   "source": []
  },
  {
   "cell_type": "code",
   "execution_count": null,
   "metadata": {},
   "outputs": [],
   "source": [
    "\n"
   ]
  },
  {
   "cell_type": "code",
   "execution_count": null,
   "metadata": {},
   "outputs": [],
   "source": [
    "\n"
   ]
  },
  {
   "cell_type": "code",
   "execution_count": null,
   "metadata": {},
   "outputs": [],
   "source": []
  },
  {
   "cell_type": "code",
   "execution_count": null,
   "metadata": {},
   "outputs": [],
   "source": []
  },
  {
   "cell_type": "code",
   "execution_count": null,
   "metadata": {},
   "outputs": [],
   "source": []
  },
  {
   "cell_type": "code",
   "execution_count": null,
   "metadata": {},
   "outputs": [],
   "source": []
  },
  {
   "cell_type": "code",
   "execution_count": null,
   "metadata": {},
   "outputs": [],
   "source": []
  },
  {
   "cell_type": "code",
   "execution_count": null,
   "metadata": {},
   "outputs": [],
   "source": []
  },
  {
   "cell_type": "code",
   "execution_count": null,
   "metadata": {},
   "outputs": [],
   "source": []
  },
  {
   "cell_type": "code",
   "execution_count": null,
   "metadata": {},
   "outputs": [],
   "source": []
  },
  {
   "cell_type": "code",
   "execution_count": null,
   "metadata": {},
   "outputs": [],
   "source": []
  },
  {
   "cell_type": "code",
   "execution_count": null,
   "metadata": {},
   "outputs": [],
   "source": []
  },
  {
   "cell_type": "code",
   "execution_count": null,
   "metadata": {},
   "outputs": [],
   "source": []
  },
  {
   "cell_type": "code",
   "execution_count": null,
   "metadata": {},
   "outputs": [],
   "source": [
    "#######################################################\n",
    "\n",
    " #   JUNK      #\n",
    "    \n",
    "#top10.iloc[:,] \n",
    "#top10['Athletics','Swimming','Rowing','Gymnastics','Fencing','Football','Hockey','Wrestling','Cycling','Sailing']\n",
    "#a = z.groupby(['Sport','NOC'])['Medal'].count()\n",
    "# a.to_csv('sport.csv', header = 'Sport''NOC''Medal').\n",
    "# sp = read_csv('sport.csv')\n",
    "#z = ds[['NOC', 'Sport', 'Medal']].copy()\n",
    "#z.sort_values('NOC')\n",
    "# n = z.groupby(['Sport','NOC'], as_index = True)['Medal'].count()\n",
    "# type(n)\n",
    "#m = n.nlargest(50)\n",
    "#m\n",
    "#m['NOC'].sort()\n",
    "# n.to_csv('sport.csv', header = 'Sport''NOC''Medal')\n",
    "# sp = pd.read_csv('sport.csv').\n",
    "# sp\n",
    "\n",
    "# n = z.groupby(['Sport', 'NOC'], as_index = True).agg({'Medal':'count'})\n",
    "# n.sort_values(['Medal'], ascending=False)\n",
    "# n\n",
    "#sportevents.to_csv('sport.csv', header = 'Sport''NOC''Medal')\n",
    "#sp = pd.read_csv('sport.csv')\n",
    "\n",
    "# k = n.groupby(['Sport'])['Medal'].nlargest(5)\n",
    "# k\n",
    "\n",
    "# for name, group in medalbysport.groupby('Sport'): \n",
    "#      print(name)\n",
    "#      print(group)\n",
    "\n",
    "\n",
    "###############################################################"
   ]
  }
 ],
 "metadata": {
  "kernelspec": {
   "display_name": "Python 3",
   "language": "python",
   "name": "python3"
  },
  "language_info": {
   "codemirror_mode": {
    "name": "ipython",
    "version": 3
   },
   "file_extension": ".py",
   "mimetype": "text/x-python",
   "name": "python",
   "nbconvert_exporter": "python",
   "pygments_lexer": "ipython3",
   "version": "3.6.8"
  }
 },
 "nbformat": 4,
 "nbformat_minor": 2
}
